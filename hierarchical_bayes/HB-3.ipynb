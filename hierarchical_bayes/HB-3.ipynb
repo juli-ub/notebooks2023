{
 "cells": [
  {
   "cell_type": "code",
   "execution_count": 1,
   "id": "d811e319",
   "metadata": {},
   "outputs": [
    {
     "name": "stderr",
     "output_type": "stream",
     "text": [
      "WARNING (theano.tensor.blas): Using NumPy C-API based implementation for BLAS functions.\n"
     ]
    },
    {
     "name": "stdout",
     "output_type": "stream",
     "text": [
      "Running on PyMC3 v3.11.5\n"
     ]
    }
   ],
   "source": [
    "from sklearn.datasets import make_classification\n",
    "from sklearn.model_selection import train_test_split\n",
    "from sklearn.ensemble import RandomForestClassifier\n",
    "import time\n",
    "import numpy as np\n",
    "from sklearn.inspection import permutation_importance\n",
    "import warnings\n",
    "\n",
    "from collections import OrderedDict\n",
    "from time import time\n",
    "\n",
    "import arviz as az\n",
    "import matplotlib.pyplot as plt\n",
    "import numpy as np\n",
    "import pandas as pd\n",
    "import pymc3 as pm\n",
    "import seaborn\n",
    "import theano as thno\n",
    "import theano.tensor as T\n",
    "\n",
    "from scipy import integrate\n",
    "from scipy.optimize import fmin_powell\n",
    "\n",
    "print(f\"Running on PyMC3 v{pm.__version__}\")"
   ]
  },
  {
   "cell_type": "code",
   "execution_count": 70,
   "id": "c8315921",
   "metadata": {},
   "outputs": [],
   "source": [
    "from sklearn.metrics import (roc_curve, roc_auc_score, confusion_matrix, accuracy_score, f1_score, \n",
    "                             precision_recall_curve) \n",
    "from sklearn.metrics import confusion_matrix"
   ]
  },
  {
   "cell_type": "code",
   "execution_count": 2,
   "id": "d7a6b086",
   "metadata": {},
   "outputs": [
    {
     "data": {
      "text/html": [
       "<div>\n",
       "<style scoped>\n",
       "    .dataframe tbody tr th:only-of-type {\n",
       "        vertical-align: middle;\n",
       "    }\n",
       "\n",
       "    .dataframe tbody tr th {\n",
       "        vertical-align: top;\n",
       "    }\n",
       "\n",
       "    .dataframe thead th {\n",
       "        text-align: right;\n",
       "    }\n",
       "</style>\n",
       "<table border=\"1\" class=\"dataframe\">\n",
       "  <thead>\n",
       "    <tr style=\"text-align: right;\">\n",
       "      <th></th>\n",
       "      <th>age</th>\n",
       "      <th>workclass</th>\n",
       "      <th>fnlwgt</th>\n",
       "      <th>education</th>\n",
       "      <th>educ</th>\n",
       "      <th>marital</th>\n",
       "      <th>occupation</th>\n",
       "      <th>relationship</th>\n",
       "      <th>race</th>\n",
       "      <th>sex</th>\n",
       "      <th>captial-gain</th>\n",
       "      <th>capital-loss</th>\n",
       "      <th>hours</th>\n",
       "      <th>country</th>\n",
       "      <th>income</th>\n",
       "    </tr>\n",
       "  </thead>\n",
       "  <tbody>\n",
       "    <tr>\n",
       "      <th>0</th>\n",
       "      <td>39</td>\n",
       "      <td>State-gov</td>\n",
       "      <td>77516</td>\n",
       "      <td>Bachelors</td>\n",
       "      <td>13</td>\n",
       "      <td>Never-married</td>\n",
       "      <td>Adm-clerical</td>\n",
       "      <td>Not-in-family</td>\n",
       "      <td>White</td>\n",
       "      <td>Male</td>\n",
       "      <td>2174</td>\n",
       "      <td>0</td>\n",
       "      <td>40</td>\n",
       "      <td>United-States</td>\n",
       "      <td>&lt;=50K</td>\n",
       "    </tr>\n",
       "    <tr>\n",
       "      <th>1</th>\n",
       "      <td>50</td>\n",
       "      <td>Self-emp-not-inc</td>\n",
       "      <td>83311</td>\n",
       "      <td>Bachelors</td>\n",
       "      <td>13</td>\n",
       "      <td>Married-civ-spouse</td>\n",
       "      <td>Exec-managerial</td>\n",
       "      <td>Husband</td>\n",
       "      <td>White</td>\n",
       "      <td>Male</td>\n",
       "      <td>0</td>\n",
       "      <td>0</td>\n",
       "      <td>13</td>\n",
       "      <td>United-States</td>\n",
       "      <td>&lt;=50K</td>\n",
       "    </tr>\n",
       "    <tr>\n",
       "      <th>2</th>\n",
       "      <td>38</td>\n",
       "      <td>Private</td>\n",
       "      <td>215646</td>\n",
       "      <td>HS-grad</td>\n",
       "      <td>9</td>\n",
       "      <td>Divorced</td>\n",
       "      <td>Handlers-cleaners</td>\n",
       "      <td>Not-in-family</td>\n",
       "      <td>White</td>\n",
       "      <td>Male</td>\n",
       "      <td>0</td>\n",
       "      <td>0</td>\n",
       "      <td>40</td>\n",
       "      <td>United-States</td>\n",
       "      <td>&lt;=50K</td>\n",
       "    </tr>\n",
       "    <tr>\n",
       "      <th>3</th>\n",
       "      <td>53</td>\n",
       "      <td>Private</td>\n",
       "      <td>234721</td>\n",
       "      <td>11th</td>\n",
       "      <td>7</td>\n",
       "      <td>Married-civ-spouse</td>\n",
       "      <td>Handlers-cleaners</td>\n",
       "      <td>Husband</td>\n",
       "      <td>Black</td>\n",
       "      <td>Male</td>\n",
       "      <td>0</td>\n",
       "      <td>0</td>\n",
       "      <td>40</td>\n",
       "      <td>United-States</td>\n",
       "      <td>&lt;=50K</td>\n",
       "    </tr>\n",
       "    <tr>\n",
       "      <th>4</th>\n",
       "      <td>28</td>\n",
       "      <td>Private</td>\n",
       "      <td>338409</td>\n",
       "      <td>Bachelors</td>\n",
       "      <td>13</td>\n",
       "      <td>Married-civ-spouse</td>\n",
       "      <td>Prof-specialty</td>\n",
       "      <td>Wife</td>\n",
       "      <td>Black</td>\n",
       "      <td>Female</td>\n",
       "      <td>0</td>\n",
       "      <td>0</td>\n",
       "      <td>40</td>\n",
       "      <td>Cuba</td>\n",
       "      <td>&lt;=50K</td>\n",
       "    </tr>\n",
       "    <tr>\n",
       "      <th>5</th>\n",
       "      <td>37</td>\n",
       "      <td>Private</td>\n",
       "      <td>284582</td>\n",
       "      <td>Masters</td>\n",
       "      <td>14</td>\n",
       "      <td>Married-civ-spouse</td>\n",
       "      <td>Exec-managerial</td>\n",
       "      <td>Wife</td>\n",
       "      <td>White</td>\n",
       "      <td>Female</td>\n",
       "      <td>0</td>\n",
       "      <td>0</td>\n",
       "      <td>40</td>\n",
       "      <td>United-States</td>\n",
       "      <td>&lt;=50K</td>\n",
       "    </tr>\n",
       "    <tr>\n",
       "      <th>6</th>\n",
       "      <td>49</td>\n",
       "      <td>Private</td>\n",
       "      <td>160187</td>\n",
       "      <td>9th</td>\n",
       "      <td>5</td>\n",
       "      <td>Married-spouse-absent</td>\n",
       "      <td>Other-service</td>\n",
       "      <td>Not-in-family</td>\n",
       "      <td>Black</td>\n",
       "      <td>Female</td>\n",
       "      <td>0</td>\n",
       "      <td>0</td>\n",
       "      <td>16</td>\n",
       "      <td>Jamaica</td>\n",
       "      <td>&lt;=50K</td>\n",
       "    </tr>\n",
       "    <tr>\n",
       "      <th>7</th>\n",
       "      <td>52</td>\n",
       "      <td>Self-emp-not-inc</td>\n",
       "      <td>209642</td>\n",
       "      <td>HS-grad</td>\n",
       "      <td>9</td>\n",
       "      <td>Married-civ-spouse</td>\n",
       "      <td>Exec-managerial</td>\n",
       "      <td>Husband</td>\n",
       "      <td>White</td>\n",
       "      <td>Male</td>\n",
       "      <td>0</td>\n",
       "      <td>0</td>\n",
       "      <td>45</td>\n",
       "      <td>United-States</td>\n",
       "      <td>&gt;50K</td>\n",
       "    </tr>\n",
       "    <tr>\n",
       "      <th>8</th>\n",
       "      <td>31</td>\n",
       "      <td>Private</td>\n",
       "      <td>45781</td>\n",
       "      <td>Masters</td>\n",
       "      <td>14</td>\n",
       "      <td>Never-married</td>\n",
       "      <td>Prof-specialty</td>\n",
       "      <td>Not-in-family</td>\n",
       "      <td>White</td>\n",
       "      <td>Female</td>\n",
       "      <td>14084</td>\n",
       "      <td>0</td>\n",
       "      <td>50</td>\n",
       "      <td>United-States</td>\n",
       "      <td>&gt;50K</td>\n",
       "    </tr>\n",
       "    <tr>\n",
       "      <th>9</th>\n",
       "      <td>42</td>\n",
       "      <td>Private</td>\n",
       "      <td>159449</td>\n",
       "      <td>Bachelors</td>\n",
       "      <td>13</td>\n",
       "      <td>Married-civ-spouse</td>\n",
       "      <td>Exec-managerial</td>\n",
       "      <td>Husband</td>\n",
       "      <td>White</td>\n",
       "      <td>Male</td>\n",
       "      <td>5178</td>\n",
       "      <td>0</td>\n",
       "      <td>40</td>\n",
       "      <td>United-States</td>\n",
       "      <td>&gt;50K</td>\n",
       "    </tr>\n",
       "  </tbody>\n",
       "</table>\n",
       "</div>"
      ],
      "text/plain": [
       "   age          workclass  fnlwgt   education  educ                 marital  \\\n",
       "0   39          State-gov   77516   Bachelors    13           Never-married   \n",
       "1   50   Self-emp-not-inc   83311   Bachelors    13      Married-civ-spouse   \n",
       "2   38            Private  215646     HS-grad     9                Divorced   \n",
       "3   53            Private  234721        11th     7      Married-civ-spouse   \n",
       "4   28            Private  338409   Bachelors    13      Married-civ-spouse   \n",
       "5   37            Private  284582     Masters    14      Married-civ-spouse   \n",
       "6   49            Private  160187         9th     5   Married-spouse-absent   \n",
       "7   52   Self-emp-not-inc  209642     HS-grad     9      Married-civ-spouse   \n",
       "8   31            Private   45781     Masters    14           Never-married   \n",
       "9   42            Private  159449   Bachelors    13      Married-civ-spouse   \n",
       "\n",
       "           occupation    relationship    race      sex  captial-gain  \\\n",
       "0        Adm-clerical   Not-in-family   White     Male          2174   \n",
       "1     Exec-managerial         Husband   White     Male             0   \n",
       "2   Handlers-cleaners   Not-in-family   White     Male             0   \n",
       "3   Handlers-cleaners         Husband   Black     Male             0   \n",
       "4      Prof-specialty            Wife   Black   Female             0   \n",
       "5     Exec-managerial            Wife   White   Female             0   \n",
       "6       Other-service   Not-in-family   Black   Female             0   \n",
       "7     Exec-managerial         Husband   White     Male             0   \n",
       "8      Prof-specialty   Not-in-family   White   Female         14084   \n",
       "9     Exec-managerial         Husband   White     Male          5178   \n",
       "\n",
       "   capital-loss  hours         country  income  \n",
       "0             0     40   United-States   <=50K  \n",
       "1             0     13   United-States   <=50K  \n",
       "2             0     40   United-States   <=50K  \n",
       "3             0     40   United-States   <=50K  \n",
       "4             0     40            Cuba   <=50K  \n",
       "5             0     40   United-States   <=50K  \n",
       "6             0     16         Jamaica   <=50K  \n",
       "7             0     45   United-States    >50K  \n",
       "8             0     50   United-States    >50K  \n",
       "9             0     40   United-States    >50K  "
      ]
     },
     "execution_count": 2,
     "metadata": {},
     "output_type": "execute_result"
    }
   ],
   "source": [
    "raw_data = pd.read_csv(\n",
    "    \"https://archive.ics.uci.edu/ml/machine-learning-databases/adult/adult.data\",\n",
    "    header=None,\n",
    "    names=[\n",
    "        \"age\",\n",
    "        \"workclass\",\n",
    "        \"fnlwgt\",\n",
    "        \"education\",\n",
    "        \"educ\",\n",
    "        \"marital\",\n",
    "        \"occupation\",\n",
    "        \"relationship\",\n",
    "        \"race\",\n",
    "        \"sex\",\n",
    "        \"captial-gain\",\n",
    "        \"capital-loss\",\n",
    "        \"hours\",\n",
    "        \"country\",\n",
    "        \"income\",\n",
    "    ],\n",
    ")\n",
    "raw_data.head(10)"
   ]
  },
  {
   "cell_type": "code",
   "execution_count": 3,
   "id": "418c315b",
   "metadata": {},
   "outputs": [],
   "source": [
    "data = raw_data[~pd.isnull(raw_data[\"income\"])]"
   ]
  },
  {
   "cell_type": "code",
   "execution_count": 4,
   "id": "ee5fc79e",
   "metadata": {},
   "outputs": [],
   "source": [
    "data[\"age\"] = data[\"age\"] / 10.0\n",
    "data[\"age2\"] = np.square(data[\"age\"])\n",
    "# data[\"hours\"] = data[\"hours\"] / 10.0\n",
    "# data[\"gains\"] = (data[\"captial-gain\"]- data[\"capital-loss\"])/ 100.0\n",
    "data[\"income\"]=np.where(data[\"income\"]==\" >50K\",1,0)\n",
    "data = data[[\"age\", \"educ\", \"hours\",\"age2\",\"income\"]]"
   ]
  },
  {
   "cell_type": "code",
   "execution_count": 5,
   "id": "f8113d7a",
   "metadata": {},
   "outputs": [
    {
     "data": {
      "text/html": [
       "<div>\n",
       "<style scoped>\n",
       "    .dataframe tbody tr th:only-of-type {\n",
       "        vertical-align: middle;\n",
       "    }\n",
       "\n",
       "    .dataframe tbody tr th {\n",
       "        vertical-align: top;\n",
       "    }\n",
       "\n",
       "    .dataframe thead th {\n",
       "        text-align: right;\n",
       "    }\n",
       "</style>\n",
       "<table border=\"1\" class=\"dataframe\">\n",
       "  <thead>\n",
       "    <tr style=\"text-align: right;\">\n",
       "      <th></th>\n",
       "      <th>age</th>\n",
       "      <th>educ</th>\n",
       "      <th>hours</th>\n",
       "      <th>age2</th>\n",
       "      <th>income</th>\n",
       "    </tr>\n",
       "  </thead>\n",
       "  <tbody>\n",
       "    <tr>\n",
       "      <th>0</th>\n",
       "      <td>3.9</td>\n",
       "      <td>13</td>\n",
       "      <td>40</td>\n",
       "      <td>15.21</td>\n",
       "      <td>0</td>\n",
       "    </tr>\n",
       "    <tr>\n",
       "      <th>1</th>\n",
       "      <td>5.0</td>\n",
       "      <td>13</td>\n",
       "      <td>13</td>\n",
       "      <td>25.00</td>\n",
       "      <td>0</td>\n",
       "    </tr>\n",
       "    <tr>\n",
       "      <th>2</th>\n",
       "      <td>3.8</td>\n",
       "      <td>9</td>\n",
       "      <td>40</td>\n",
       "      <td>14.44</td>\n",
       "      <td>0</td>\n",
       "    </tr>\n",
       "    <tr>\n",
       "      <th>3</th>\n",
       "      <td>5.3</td>\n",
       "      <td>7</td>\n",
       "      <td>40</td>\n",
       "      <td>28.09</td>\n",
       "      <td>0</td>\n",
       "    </tr>\n",
       "    <tr>\n",
       "      <th>4</th>\n",
       "      <td>2.8</td>\n",
       "      <td>13</td>\n",
       "      <td>40</td>\n",
       "      <td>7.84</td>\n",
       "      <td>0</td>\n",
       "    </tr>\n",
       "  </tbody>\n",
       "</table>\n",
       "</div>"
      ],
      "text/plain": [
       "   age  educ  hours   age2  income\n",
       "0  3.9    13     40  15.21       0\n",
       "1  5.0    13     13  25.00       0\n",
       "2  3.8     9     40  14.44       0\n",
       "3  5.3     7     40  28.09       0\n",
       "4  2.8    13     40   7.84       0"
      ]
     },
     "execution_count": 5,
     "metadata": {},
     "output_type": "execute_result"
    }
   ],
   "source": [
    "data.head()"
   ]
  },
  {
   "cell_type": "code",
   "execution_count": 6,
   "id": "dea15962",
   "metadata": {},
   "outputs": [],
   "source": [
    "income=data[\"income\"]\n",
    "data = data.drop(['income'], axis=1)"
   ]
  },
  {
   "cell_type": "code",
   "execution_count": 7,
   "id": "bedce253",
   "metadata": {},
   "outputs": [],
   "source": [
    "X_train, X_test, y_train, y_test = train_test_split(data, income, stratify=income, random_state=42)"
   ]
  },
  {
   "cell_type": "code",
   "execution_count": 8,
   "id": "118c99ea",
   "metadata": {},
   "outputs": [],
   "source": [
    "data_tensor = thno.shared(X_train.values.astype('float64'))\n",
    "target_tensor = thno.shared(y_train.values.astype('int64'))"
   ]
  },
  {
   "cell_type": "code",
   "execution_count": 9,
   "id": "1207cfdd",
   "metadata": {},
   "outputs": [],
   "source": [
    "n_parameters=4"
   ]
  },
  {
   "cell_type": "code",
   "execution_count": 10,
   "id": "a49a069d",
   "metadata": {
    "scrolled": true
   },
   "outputs": [
    {
     "name": "stderr",
     "output_type": "stream",
     "text": [
      "C:\\ProgramData\\Anaconda3\\lib\\site-packages\\deprecat\\classic.py:215: FutureWarning: In v4.0, pm.sample will return an `arviz.InferenceData` object instead of a `MultiTrace` by default. You can pass return_inferencedata=True or return_inferencedata=False to be safe and silence this warning.\n",
      "  return wrapped_(*args_, **kwargs_)\n",
      "Multiprocess sampling (4 chains in 4 jobs)\n",
      "Metropolis: [betas]\n"
     ]
    },
    {
     "data": {
      "text/html": [
       "\n",
       "<style>\n",
       "    /* Turns off some styling */\n",
       "    progress {\n",
       "        /* gets rid of default border in Firefox and Opera. */\n",
       "        border: none;\n",
       "        /* Needs to be in here for Safari polyfill so background images work as expected. */\n",
       "        background-size: auto;\n",
       "    }\n",
       "    progress:not([value]), progress:not([value])::-webkit-progress-bar {\n",
       "        background: repeating-linear-gradient(45deg, #7e7e7e, #7e7e7e 10px, #5c5c5c 10px, #5c5c5c 20px);\n",
       "    }\n",
       "    .progress-bar-interrupted, .progress-bar-interrupted::-webkit-progress-bar {\n",
       "        background: #F44336;\n",
       "    }\n",
       "</style>\n"
      ],
      "text/plain": [
       "<IPython.core.display.HTML object>"
      ]
     },
     "metadata": {},
     "output_type": "display_data"
    },
    {
     "data": {
      "text/html": [
       "\n",
       "    <div>\n",
       "      <progress value='24000' class='' max='24000' style='width:300px; height:20px; vertical-align: middle;'></progress>\n",
       "      100.00% [24000/24000 05:34&lt;00:00 Sampling 4 chains, 0 divergences]\n",
       "    </div>\n",
       "    "
      ],
      "text/plain": [
       "<IPython.core.display.HTML object>"
      ]
     },
     "metadata": {},
     "output_type": "display_data"
    },
    {
     "name": "stderr",
     "output_type": "stream",
     "text": [
      "Sampling 4 chains for 1_000 tune and 5_000 draw iterations (4_000 + 20_000 draws total) took 375 seconds.\n",
      "The rhat statistic is larger than 1.05 for some parameters. This indicates slight problems during sampling.\n",
      "The estimated number of effective samples is smaller than 200 for some parameters.\n"
     ]
    }
   ],
   "source": [
    "with pm.Model() as complete_model:\n",
    "    betas = pm.Normal('betas', 0, sigma=10, shape=n_parameters)\n",
    "    logistic_coef = [betas[i] * data_tensor.transpose()[i] for i in range(n_parameters)] \n",
    "    \n",
    "    likelihood = pm.math.sigmoid(logistic_coef)\n",
    "    y = pm.Bernoulli('y', likelihood, observed=target_tensor)\n",
    "\n",
    "with complete_model:\n",
    "    complete_trace = pm.sample(5000, step=pm.Metropolis())\n",
    "    complete_burned_trace = complete_trace[1000:]  "
   ]
  },
  {
   "cell_type": "code",
   "execution_count": 23,
   "id": "fe4f6b55",
   "metadata": {},
   "outputs": [],
   "source": [
    "#compute the average probability of predicting 1. \n",
    "# y_score = np.mean(complete_burned_trace[likelihood], axis=0)\n",
    "# complete_burned_trace[likelihood[10:]]"
   ]
  },
  {
   "cell_type": "code",
   "execution_count": 21,
   "id": "d099d864",
   "metadata": {},
   "outputs": [
    {
     "data": {
      "text/plain": [
       "5881"
      ]
     },
     "execution_count": 21,
     "metadata": {},
     "output_type": "execute_result"
    }
   ],
   "source": [
    "y.eval()\n",
    "y.eval().sum()"
   ]
  },
  {
   "cell_type": "code",
   "execution_count": 22,
   "id": "d471f788",
   "metadata": {},
   "outputs": [
    {
     "data": {
      "image/png": "[encoded data removed]",
      "text/plain": [
       "<Figure size 432x288 with 1 Axes>"
      ]
     },
     "metadata": {
      "needs_background": "light"
     },
     "output_type": "display_data"
    }
   ],
   "source": [
    "# figsize(12.5,4)\n",
    "plt.hist(y.eval(), bins=40, density=True)\n",
    "plt.xlabel('Probability')\n",
    "plt.ylabel('Frequency')\n",
    "plt.title('Distribution of $y_score$')\n",
    "plt.show()"
   ]
  },
  {
   "cell_type": "code",
   "execution_count": 69,
   "id": "55d7dd96",
   "metadata": {},
   "outputs": [],
   "source": [
    "y_pred0=y.eval()"
   ]
  },
  {
   "cell_type": "code",
   "execution_count": 71,
   "id": "ff19803f",
   "metadata": {},
   "outputs": [
    {
     "data": {
      "text/plain": [
       "array([[18539,     0],\n",
       "       [    0,  5881]], dtype=int64)"
      ]
     },
     "execution_count": 71,
     "metadata": {},
     "output_type": "execute_result"
    }
   ],
   "source": [
    "confusion_matrix(y_train, y_pred0)"
   ]
  },
  {
   "cell_type": "code",
   "execution_count": 73,
   "id": "ef4e1083",
   "metadata": {},
   "outputs": [
    {
     "data": {
      "text/html": [
       "\n",
       "<style>\n",
       "    /* Turns off some styling */\n",
       "    progress {\n",
       "        /* gets rid of default border in Firefox and Opera. */\n",
       "        border: none;\n",
       "        /* Needs to be in here for Safari polyfill so background images work as expected. */\n",
       "        background-size: auto;\n",
       "    }\n",
       "    progress:not([value]), progress:not([value])::-webkit-progress-bar {\n",
       "        background: repeating-linear-gradient(45deg, #7e7e7e, #7e7e7e 10px, #5c5c5c 10px, #5c5c5c 20px);\n",
       "    }\n",
       "    .progress-bar-interrupted, .progress-bar-interrupted::-webkit-progress-bar {\n",
       "        background: #F44336;\n",
       "    }\n",
       "</style>\n"
      ],
      "text/plain": [
       "<IPython.core.display.HTML object>"
      ]
     },
     "metadata": {},
     "output_type": "display_data"
    },
    {
     "data": {
      "text/html": [
       "\n",
       "    <div>\n",
       "      <progress value='16000' class='' max='16000' style='width:300px; height:20px; vertical-align: middle;'></progress>\n",
       "      100.00% [16000/16000 07:29&lt;00:00]\n",
       "    </div>\n",
       "    "
      ],
      "text/plain": [
       "<IPython.core.display.HTML object>"
      ]
     },
     "metadata": {},
     "output_type": "display_data"
    }
   ],
   "source": [
    "target_pred = thno.shared(y_test.values.astype('int64'))\n",
    "with complete_model:\n",
    "#     y_pred = pm.Bernoulli('y', likelihood, observed=target_pred)\n",
    "    post_pred = pm.sample_posterior_predictive(complete_burned_trace)"
   ]
  },
  {
   "cell_type": "code",
   "execution_count": null,
   "id": "d4c7c039",
   "metadata": {},
   "outputs": [],
   "source": [
    "# post_pred"
   ]
  },
  {
   "cell_type": "code",
   "execution_count": 78,
   "id": "f1c87c58",
   "metadata": {},
   "outputs": [
    {
     "data": {
      "text/plain": [
       "dict_keys(['y'])"
      ]
     },
     "execution_count": 78,
     "metadata": {},
     "output_type": "execute_result"
    }
   ],
   "source": [
    "post_pred.keys()"
   ]
  },
  {
   "cell_type": "code",
   "execution_count": 79,
   "id": "79528dbe",
   "metadata": {},
   "outputs": [],
   "source": [
    "sample_post_pred = post_pred['y']"
   ]
  },
  {
   "cell_type": "code",
   "execution_count": 82,
   "id": "be7f1ff3",
   "metadata": {},
   "outputs": [],
   "source": [
    "def decorate_rate(ylabel='Likelihood'):\n",
    "    \"\"\"Decorate the axes.\"\"\"\n",
    "    plt.xlabel('Goals per game (mu)')\n",
    "    plt.ylabel(ylabel)\n",
    "    plt.title('Distribution of goal scoring rate')\n",
    "    legend()\n",
    "    \n",
    "import seaborn as sns\n",
    "\n",
    "def plot_hist(sample, **options):\n",
    "    \"\"\"Plot a histogram of goals.\n",
    "    \n",
    "    sample: sequence of values\n",
    "    \"\"\"\n",
    "    sns.histplot(sample, stat='probability', discrete=True,\n",
    "                 alpha=0.5, **options)"
   ]
  },
  {
   "cell_type": "code",
   "execution_count": 84,
   "id": "0ae7138a",
   "metadata": {},
   "outputs": [],
   "source": [
    "# plot_hist(sample_post_pred, label='posterior pred') # ValueError: Must pass 2-d input. shape=(16000, 4, 24420)\n",
    "# decorate_goals()"
   ]
  },
  {
   "cell_type": "markdown",
   "id": "465dfac7",
   "metadata": {},
   "source": [
    "## Unpooled Model(s)"
   ]
  },
  {
   "cell_type": "code",
   "execution_count": 63,
   "id": "6674ed98",
   "metadata": {},
   "outputs": [],
   "source": [
    "data2 = raw_data[~pd.isnull(raw_data[\"income\"])]\n",
    "# data2 = data2[data2.country!=\" ?\"]"
   ]
  },
  {
   "cell_type": "code",
   "execution_count": 64,
   "id": "94f149d7",
   "metadata": {},
   "outputs": [],
   "source": [
    "g7plus=[\" Germany\",\" Canada\",\" England\",\" Italy\",\" France\",\" Ireland\",\" Scotland\"]"
   ]
  },
  {
   "cell_type": "code",
   "execution_count": 65,
   "id": "92fa8afc",
   "metadata": {},
   "outputs": [],
   "source": [
    "data2[\"country\"]=np.where(data2[\"country\"]==\" United-States\",1,data2[\"country\"])\n",
    "data2[\"country\"]=np.where(data2[\"country\"]==\" ?\",0,data2[\"country\"])\n",
    "data2[\"country\"]=np.where(data2[\"country\"].isin(g7plus),2,data2[\"country\"])\n",
    "data2[\"country\"]=np.where(~data2[\"country\"].isin([0,1,2]),3,data2[\"country\"])"
   ]
  },
  {
   "cell_type": "code",
   "execution_count": 66,
   "id": "34fdfda2",
   "metadata": {},
   "outputs": [
    {
     "data": {
      "text/plain": [
       "1    29170\n",
       "3     2322\n",
       "0      583\n",
       "2      486\n",
       "Name: country, dtype: int64"
      ]
     },
     "execution_count": 66,
     "metadata": {},
     "output_type": "execute_result"
    }
   ],
   "source": [
    "data2[\"country\"].value_counts()"
   ]
  },
  {
   "cell_type": "code",
   "execution_count": 67,
   "id": "b6581b4c",
   "metadata": {},
   "outputs": [
    {
     "data": {
      "text/html": [
       "<div>\n",
       "<style scoped>\n",
       "    .dataframe tbody tr th:only-of-type {\n",
       "        vertical-align: middle;\n",
       "    }\n",
       "\n",
       "    .dataframe tbody tr th {\n",
       "        vertical-align: top;\n",
       "    }\n",
       "\n",
       "    .dataframe thead th {\n",
       "        text-align: right;\n",
       "    }\n",
       "</style>\n",
       "<table border=\"1\" class=\"dataframe\">\n",
       "  <thead>\n",
       "    <tr style=\"text-align: right;\">\n",
       "      <th></th>\n",
       "      <th>age</th>\n",
       "      <th>educ</th>\n",
       "      <th>hours</th>\n",
       "      <th>age2</th>\n",
       "      <th>income</th>\n",
       "      <th>country</th>\n",
       "    </tr>\n",
       "  </thead>\n",
       "  <tbody>\n",
       "    <tr>\n",
       "      <th>0</th>\n",
       "      <td>3.9</td>\n",
       "      <td>13</td>\n",
       "      <td>40</td>\n",
       "      <td>15.21</td>\n",
       "      <td>0</td>\n",
       "      <td>1</td>\n",
       "    </tr>\n",
       "    <tr>\n",
       "      <th>1</th>\n",
       "      <td>5.0</td>\n",
       "      <td>13</td>\n",
       "      <td>13</td>\n",
       "      <td>25.00</td>\n",
       "      <td>0</td>\n",
       "      <td>1</td>\n",
       "    </tr>\n",
       "    <tr>\n",
       "      <th>2</th>\n",
       "      <td>3.8</td>\n",
       "      <td>9</td>\n",
       "      <td>40</td>\n",
       "      <td>14.44</td>\n",
       "      <td>0</td>\n",
       "      <td>1</td>\n",
       "    </tr>\n",
       "    <tr>\n",
       "      <th>3</th>\n",
       "      <td>5.3</td>\n",
       "      <td>7</td>\n",
       "      <td>40</td>\n",
       "      <td>28.09</td>\n",
       "      <td>0</td>\n",
       "      <td>1</td>\n",
       "    </tr>\n",
       "    <tr>\n",
       "      <th>4</th>\n",
       "      <td>2.8</td>\n",
       "      <td>13</td>\n",
       "      <td>40</td>\n",
       "      <td>7.84</td>\n",
       "      <td>0</td>\n",
       "      <td>3</td>\n",
       "    </tr>\n",
       "  </tbody>\n",
       "</table>\n",
       "</div>"
      ],
      "text/plain": [
       "   age  educ  hours   age2  income country\n",
       "0  3.9    13     40  15.21       0       1\n",
       "1  5.0    13     13  25.00       0       1\n",
       "2  3.8     9     40  14.44       0       1\n",
       "3  5.3     7     40  28.09       0       1\n",
       "4  2.8    13     40   7.84       0       3"
      ]
     },
     "execution_count": 67,
     "metadata": {},
     "output_type": "execute_result"
    }
   ],
   "source": [
    "data2[\"age\"] = data2[\"age\"] / 10.0\n",
    "data2[\"age2\"] = np.square(data2[\"age\"])\n",
    "data2[\"income\"]=np.where(data2[\"income\"]==\" >50K\",1,0)\n",
    "data2 = data2[[\"age\", \"educ\", \"hours\",\"age2\",\"income\",\"country\"]]\n",
    "data2.head()"
   ]
  },
  {
   "cell_type": "code",
   "execution_count": 85,
   "id": "e7f79b76",
   "metadata": {},
   "outputs": [],
   "source": [
    "income=data2[\"income\"]\n",
    "data2 = data2.drop(['income'], axis=1)"
   ]
  },
  {
   "cell_type": "code",
   "execution_count": 86,
   "id": "614beac1",
   "metadata": {},
   "outputs": [],
   "source": [
    "X_train2, X_test2, y_train2, y_test2 = train_test_split(data2, income, stratify=income, random_state=42)"
   ]
  },
  {
   "cell_type": "code",
   "execution_count": 88,
   "id": "21b6ba6a",
   "metadata": {},
   "outputs": [],
   "source": [
    "geo_train2 = X_train2[\"country\"]\n",
    "X_train2= X_train2.drop([\"country\"], axis=1)"
   ]
  },
  {
   "cell_type": "code",
   "execution_count": 90,
   "id": "80d6f045",
   "metadata": {},
   "outputs": [],
   "source": [
    "data_tensor2 = thno.shared(X_train2.values.astype('float64'))\n",
    "target_tensor2 = thno.shared(y_train2.values.astype('int64'))\n",
    "geo_region_tensor2 = thno.shared(geo_train2.values.astype('int64'))"
   ]
  },
  {
   "cell_type": "code",
   "execution_count": 92,
   "id": "918e99db",
   "metadata": {},
   "outputs": [],
   "source": [
    "n_regions=4"
   ]
  },
  {
   "cell_type": "code",
   "execution_count": 95,
   "id": "12cbd604",
   "metadata": {},
   "outputs": [],
   "source": [
    "with pm.Model() as unpooled_model:    \n",
    "    betas_T = pm.Normal('betas', mu=0, sigma=100, shape=(n_regions,n_parameters))\n",
    "    betas2 = T.transpose(betas_T)\n",
    "\n",
    "    geo_region_cast2 = T.cast(geo_region_tensor2, dtype='int64')\n",
    "    logistic_coeff2 = [betas2[i, geo_region_cast2] * data_tensor2.transpose()[i] for i in range(n_parameters)]\n",
    "    likelihood2 = pm.math.sigmoid(logistic_coeff2)\n",
    "        \n",
    "    # Data likelihood    \n",
    "    y2 = pm.Bernoulli('y2', likelihood2, observed=target_tensor2)"
   ]
  },
  {
   "cell_type": "code",
   "execution_count": 100,
   "id": "ec64a7fb",
   "metadata": {},
   "outputs": [
    {
     "name": "stderr",
     "output_type": "stream",
     "text": [
      "C:\\ProgramData\\Anaconda3\\lib\\site-packages\\deprecat\\classic.py:215: FutureWarning: In v4.0, pm.sample will return an `arviz.InferenceData` object instead of a `MultiTrace` by default. You can pass return_inferencedata=True or return_inferencedata=False to be safe and silence this warning.\n",
      "  return wrapped_(*args_, **kwargs_)\n",
      "Multiprocess sampling (2 chains in 2 jobs)\n",
      "Metropolis: [betas]\n"
     ]
    },
    {
     "data": {
      "text/html": [
       "\n",
       "<style>\n",
       "    /* Turns off some styling */\n",
       "    progress {\n",
       "        /* gets rid of default border in Firefox and Opera. */\n",
       "        border: none;\n",
       "        /* Needs to be in here for Safari polyfill so background images work as expected. */\n",
       "        background-size: auto;\n",
       "    }\n",
       "    progress:not([value]), progress:not([value])::-webkit-progress-bar {\n",
       "        background: repeating-linear-gradient(45deg, #7e7e7e, #7e7e7e 10px, #5c5c5c 10px, #5c5c5c 20px);\n",
       "    }\n",
       "    .progress-bar-interrupted, .progress-bar-interrupted::-webkit-progress-bar {\n",
       "        background: #F44336;\n",
       "    }\n",
       "</style>\n"
      ],
      "text/plain": [
       "<IPython.core.display.HTML object>"
      ]
     },
     "metadata": {},
     "output_type": "display_data"
    },
    {
     "data": {
      "text/html": [
       "\n",
       "    <div>\n",
       "      <progress value='4000' class='' max='4000' style='width:300px; height:20px; vertical-align: middle;'></progress>\n",
       "      100.00% [4000/4000 01:30&lt;00:00 Sampling 2 chains, 0 divergences]\n",
       "    </div>\n",
       "    "
      ],
      "text/plain": [
       "<IPython.core.display.HTML object>"
      ]
     },
     "metadata": {},
     "output_type": "display_data"
    },
    {
     "name": "stderr",
     "output_type": "stream",
     "text": [
      "Sampling 2 chains for 1_000 tune and 1_000 draw iterations (2_000 + 2_000 draws total) took 106 seconds.\n",
      "The rhat statistic is larger than 1.4 for some parameters. The sampler did not converge.\n",
      "The estimated number of effective samples is smaller than 200 for some parameters.\n"
     ]
    }
   ],
   "source": [
    "with unpooled_model:\n",
    "    unpooled_trace = pm.sample(1000,cores=2, step=pm.Metropolis())\n",
    "    unpooled_burned_trace = unpooled_trace[200:]\n",
    "    \n",
    "# pm.traceplot(unpooled_burned_trace)\n",
    "# pm.summary(unpooled_burned_trace)"
   ]
  },
  {
   "cell_type": "code",
   "execution_count": 101,
   "id": "77a2c021",
   "metadata": {},
   "outputs": [
    {
     "data": {
      "text/plain": [
       "<MultiTrace: 2 chains, 1000 iterations, 1 variables>"
      ]
     },
     "execution_count": 101,
     "metadata": {},
     "output_type": "execute_result"
    }
   ],
   "source": [
    "unpooled_trace"
   ]
  },
  {
   "cell_type": "code",
   "execution_count": 102,
   "id": "a4baee49",
   "metadata": {},
   "outputs": [
    {
     "data": {
      "text/latex": [
       "$$\n",
       "                \\begin{array}{rcl}\n",
       "                \\text{betas} &\\sim & \\text{Normal}\\\\\\text{y2} &\\sim & \\text{Bernoulli}\n",
       "                \\end{array}\n",
       "                $$"
      ],
      "text/plain": [
       "<pymc3.model.Model at 0x214e811cee0>"
      ]
     },
     "execution_count": 102,
     "metadata": {},
     "output_type": "execute_result"
    }
   ],
   "source": [
    "unpooled_model"
   ]
  },
  {
   "cell_type": "code",
   "execution_count": 106,
   "id": "4d9a2e12",
   "metadata": {},
   "outputs": [
    {
     "name": "stdout",
     "output_type": "stream",
     "text": [
      "              mean     sd  hdi_3%  hdi_97%  mcse_mean  mcse_sd  ess_bulk  \\\n",
      "betas[0, 0] -0.099  0.014  -0.120   -0.081      0.009    0.007       3.0   \n",
      "betas[0, 1] -0.013  0.033  -0.079    0.027      0.020    0.016       3.0   \n",
      "betas[0, 2] -0.023  0.006  -0.035   -0.012      0.002    0.002      11.0   \n",
      "betas[0, 3] -0.021  0.012  -0.039   -0.008      0.007    0.006       3.0   \n",
      "betas[1, 0] -0.223  0.007  -0.237   -0.211      0.003    0.002       5.0   \n",
      "betas[1, 1] -0.089  0.004  -0.095   -0.082      0.001    0.001      21.0   \n",
      "betas[1, 2] -0.022  0.001  -0.025   -0.021      0.000    0.000      33.0   \n",
      "betas[1, 3] -0.035  0.002  -0.038   -0.031      0.000    0.000      51.0   \n",
      "betas[2, 0] -0.109  0.125  -0.243    0.024      0.087    0.074       3.0   \n",
      "betas[2, 1] -0.076  0.030  -0.118   -0.031      0.020    0.017       2.0   \n",
      "betas[2, 2] -0.011  0.006  -0.023   -0.003      0.002    0.002      14.0   \n",
      "betas[2, 3] -0.013  0.007  -0.031   -0.003      0.002    0.001      14.0   \n",
      "betas[3, 0] -0.031  0.032  -0.109    0.006      0.019    0.015       3.0   \n",
      "betas[3, 1] -0.101  0.023  -0.142   -0.068      0.015    0.012       3.0   \n",
      "betas[3, 2] -0.039  0.003  -0.045   -0.033      0.001    0.000      38.0   \n",
      "betas[3, 3] -0.078  0.016  -0.101   -0.052      0.011    0.009       3.0   \n",
      "\n",
      "             ess_tail  r_hat  \n",
      "betas[0, 0]      18.0   1.91  \n",
      "betas[0, 1]      21.0   1.79  \n",
      "betas[0, 2]      31.0   1.29  \n",
      "betas[0, 3]      14.0   1.65  \n",
      "betas[1, 0]      10.0   1.34  \n",
      "betas[1, 1]      11.0   1.15  \n",
      "betas[1, 2]      77.0   1.03  \n",
      "betas[1, 3]      35.0   1.11  \n",
      "betas[2, 0]      12.0   1.88  \n",
      "betas[2, 1]      23.0   2.52  \n",
      "betas[2, 2]      12.0   1.19  \n",
      "betas[2, 3]       8.0   1.06  \n",
      "betas[3, 0]       8.0   2.09  \n",
      "betas[3, 1]       9.0   2.19  \n",
      "betas[3, 2]      36.0   1.09  \n",
      "betas[3, 3]      22.0   2.27  \n"
     ]
    }
   ],
   "source": [
    "with unpooled_model:\n",
    "    print(pm.summary(unpooled_burned_trace))"
   ]
  },
  {
   "cell_type": "markdown",
   "id": "8579b32c",
   "metadata": {},
   "source": [
    "--> 4 Models (0,1,2,3)"
   ]
  },
  {
   "cell_type": "markdown",
   "id": "7e12013b",
   "metadata": {},
   "source": [
    "## Hierarchical Bayes Model"
   ]
  },
  {
   "cell_type": "code",
   "execution_count": 111,
   "id": "4403b327",
   "metadata": {},
   "outputs": [],
   "source": [
    "with pm.Model() as hierarchical_model:    \n",
    "    mu = pm.Normal('mu', .0, sigma=10, shape=n_parameters)\n",
    "    sigma = pm.HalfNormal('sigma', sigma=5., shape=n_parameters)\n",
    "    \n",
    "    betas_T_3 = pm.Normal('betas', mu=mu, sigma=sigma, shape=(n_regions,n_parameters))\n",
    "    betas3 = T.transpose(betas_T_3)\n",
    "    \n",
    "    geo_region_cast3 = T.cast(geo_region_tensor2, dtype='int64')\n",
    "    logistic_coeff3 = [betas3[i, geo_region_cast3] * data_tensor2.transpose()[i] for i in range(n_parameters)]\n",
    "    likelihood3 = pm.math.sigmoid(logistic_coeff3)\n",
    "\n",
    "    # Data likelihood    \n",
    "    y3 = pm.Bernoulli('y3', likelihood3, observed=target_tensor2)\n",
    "    \n",
    "with hierarchical_model:\n",
    "    unpooled_trace = pm.sample(200)\n",
    "    unpooled_burned_trace = unpooled_trace[50:]  #runs too long"
   ]
  },
  {
   "cell_type": "code",
   "execution_count": null,
   "id": "d4c8b58a",
   "metadata": {},
   "outputs": [],
   "source": []
  }
 ],
 "metadata": {
  "kernelspec": {
   "display_name": "Python 3 (ipykernel)",
   "language": "python",
   "name": "python3"
  },
  "language_info": {
   "codemirror_mode": {
    "name": "ipython",
    "version": 3
   },
   "file_extension": ".py",
   "mimetype": "text/x-python",
   "name": "python",
   "nbconvert_exporter": "python",
   "pygments_lexer": "ipython3",
   "version": "3.8.12"
  }
 },
 "nbformat": 4,
 "nbformat_minor": 5
}
